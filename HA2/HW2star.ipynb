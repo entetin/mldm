{
 "cells": [
  {
   "cell_type": "markdown",
   "metadata": {},
   "source": [
    "## Convolutional Kernel Modification\n",
    "In this notebook the default convolutional network was trained and tested as well as a modified verion of it.\n",
    "\n",
    "The modification consists in changing every convolutional layer with several branches of smaller conv. neurons. See below for details on the architecture.\n",
    "\n",
    "As for the performance of the modified network, it didn't demonstrate good results achieveing ~55% accuracy (default setup is 65%). Note that with moderate amount of initial layer capacity the pre-training check required about 400 epochs to converge when trying to overfit small portion of data. At the same time, due to lack of computational resources and complexity of the produced network the initial layer capacity (n) as well as the number of branches (k) were lowered for the training procedure.\n",
    "\n",
    "As a result, it is possible that the performance of the modified network could be improved by setting the initial layer capacity higher and stretching the training time, assuming everything else on my part was done correctly."
   ]
  },
  {
   "cell_type": "markdown",
   "metadata": {},
   "source": [
    "## Preparing the data"
   ]
  },
  {
   "cell_type": "code",
   "execution_count": 1,
   "metadata": {
    "collapsed": true
   },
   "outputs": [],
   "source": [
    "import numpy as np\n",
    "from cifar import load_cifar10\n",
    "\n",
    "# load cifar-10 dataset\n",
    "X_train, y_train, X_val, y_val, X_test, y_test = load_cifar10(\"cifar_data\")"
   ]
  },
  {
   "cell_type": "code",
   "execution_count": 2,
   "metadata": {
    "collapsed": true
   },
   "outputs": [],
   "source": [
    "import theano\n",
    "import theano.tensor as T\n",
    "import lasagne\n",
    "\n",
    "# input data\n",
    "input_X = T.tensor4(\"input X\")\n",
    "\n",
    "# input dimension\n",
    "input_shape = [None,3,32,32]\n",
    "\n",
    "# target labels\n",
    "target_y = T.vector(\"target Y\", dtype='int32')"
   ]
  },
  {
   "cell_type": "markdown",
   "metadata": {},
   "source": [
    "## Building the network\n",
    "The default network architecture."
   ]
  },
  {
   "cell_type": "code",
   "execution_count": 9,
   "metadata": {
    "collapsed": true
   },
   "outputs": [],
   "source": [
    "comp_scale = 8  # initial number of filters for conv layers\n",
    "\n",
    "# GlorotUniform is the default weights initialization\n",
    "# 0.01 is the default leakiness for leaky_rectify nonlinearity\n",
    "\n",
    "input_layer = lasagne.layers.InputLayer(shape = input_shape, \n",
    "                                        input_var = input_X, \n",
    "                                        name = 'input')\n",
    "\n",
    "conv_1 = lasagne.layers.Conv2DLayer(input_layer, \n",
    "                                    num_filters = comp_scale, \n",
    "                                    filter_size = (3, 3), \n",
    "                                    nonlinearity = lasagne.nonlinearities.leaky_rectify, \n",
    "                                    name = 'conv_1')\n",
    "\n",
    "conv_2 = lasagne.layers.Conv2DLayer(conv_1, \n",
    "                                    num_filters = comp_scale, \n",
    "                                    filter_size = (3, 3), \n",
    "                                    nonlinearity = lasagne.nonlinearities.leaky_rectify, \n",
    "                                    name = 'conv_2')\n",
    "\n",
    "max_pool_1 = lasagne.layers.MaxPool2DLayer(conv_2, \n",
    "                                           pool_size = 2, \n",
    "                                           name = 'max_pool_1')\n",
    "\n",
    "conv_3 = lasagne.layers.Conv2DLayer(max_pool_1, \n",
    "                                    num_filters = int(comp_scale * 1.5), \n",
    "                                    filter_size = (3, 3), \n",
    "                                    nonlinearity = lasagne.nonlinearities.leaky_rectify, \n",
    "                                    name = 'conv_3')\n",
    "\n",
    "conv_4 = lasagne.layers.Conv2DLayer(conv_3, \n",
    "                                    num_filters = int(comp_scale * 1.5), \n",
    "                                    filter_size = (3, 3), \n",
    "                                    nonlinearity = lasagne.nonlinearities.leaky_rectify, \n",
    "                                    name = 'conv_4')\n",
    "\n",
    "max_pool_2 = lasagne.layers.MaxPool2DLayer(conv_4, \n",
    "                                           pool_size = 2, \n",
    "                                           name = 'max_pool_2')\n",
    "\n",
    "conv_5 = lasagne.layers.Conv2DLayer(max_pool_2, \n",
    "                                    num_filters = comp_scale * 2, \n",
    "                                    filter_size = (3, 3), \n",
    "                                    nonlinearity = lasagne.nonlinearities.leaky_rectify, \n",
    "                                    name = 'conv_5')\n",
    "\n",
    "conv_6 = lasagne.layers.Conv2DLayer(conv_5, \n",
    "                                    num_filters = comp_scale * 2, \n",
    "                                    filter_size = (3, 3), \n",
    "                                    nonlinearity = lasagne.nonlinearities.leaky_rectify, \n",
    "                                    name = 'conv_6')\n",
    "\n",
    "global_pool = lasagne.layers.GlobalPoolLayer(conv_6, \n",
    "                                             name = 'global_pool')\n",
    "\n",
    "dense_output = lasagne.layers.DenseLayer(global_pool, \n",
    "                                         num_units = 10, \n",
    "                                         nonlinearity = lasagne.nonlinearities.softmax, \n",
    "                                         name = 'output')"
   ]
  },
  {
   "cell_type": "code",
   "execution_count": 10,
   "metadata": {
    "collapsed": true
   },
   "outputs": [],
   "source": [
    "y_predicted = lasagne.layers.get_output(dense_output)\n",
    "\n",
    "all_weights = lasagne.layers.get_all_params(dense_output, trainable=True)\n",
    "\n",
    "loss = lasagne.objectives.categorical_crossentropy(y_predicted, target_y).mean()\n",
    "\n",
    "accuracy = lasagne.objectives.categorical_accuracy(y_predicted, target_y).mean()\n",
    "\n",
    "\n",
    "# weights update\n",
    "updates = lasagne.updates.adamax(loss, all_weights)\n",
    "\n",
    "\n",
    "# a function that accepts X and y, returns loss functions and performs weight updates\n",
    "train_fun = theano.function([input_X, target_y], [loss, accuracy], updates = updates)\n",
    "\n",
    "\n",
    "# deterministic prediciton\n",
    "y_predicted_det = lasagne.layers.get_output(dense_output, deterministic = True)\n",
    "\n",
    "# deterministic accuracy\n",
    "accuracy_det = lasagne.objectives.categorical_accuracy(y_predicted_det, target_y).mean()\n",
    "\n",
    "# function that computes that accuracy\n",
    "accuracy_fun = theano.function([input_X, target_y], accuracy_det)"
   ]
  },
  {
   "cell_type": "markdown",
   "metadata": {},
   "source": [
    "## Auxiliary functions"
   ]
  },
  {
   "cell_type": "code",
   "execution_count": 5,
   "metadata": {
    "collapsed": true
   },
   "outputs": [],
   "source": [
    "def iterate_minibatches(X, y, batchsize):    \n",
    "    '''Return an iterable of (X_batch, y_batch) batches of images and answers for them.'''\n",
    "    \n",
    "    size = len(X)\n",
    "    indices = np.arange(size)\n",
    "    np.random.shuffle(indices)\n",
    "    \n",
    "    for start_idx in range(0, size, batchsize):\n",
    "        excerpt = indices[start_idx : start_idx + batchsize]\n",
    "        yield X[excerpt], y[excerpt]"
   ]
  },
  {
   "cell_type": "code",
   "execution_count": 6,
   "metadata": {
    "collapsed": true
   },
   "outputs": [],
   "source": [
    "import matplotlib.pyplot as plt\n",
    "%matplotlib inline\n",
    "from IPython.display import clear_output\n",
    "\n",
    "def update_progress(epoch, num_epochs, \n",
    "                  time_since_update, duration, \n",
    "                  train_err, train_acc, val_acc, \n",
    "                  train_batches, val_batches, \n",
    "                  log):\n",
    "    '''Display training progress. Update every second.'''\n",
    "    \n",
    "    if len(log) < num_epochs:\n",
    "        if train_batches > 0:\n",
    "            log.append([train_err/train_batches, train_err, train_acc, val_acc, train_batches, val_batches, duration])\n",
    "        else:\n",
    "            log.append([0, train_err, train_acc, val_acc, train_batches, val_batches, duration])\n",
    "\n",
    "    if time_since_update > 1:\n",
    "        \n",
    "        clear_output(True)\n",
    "\n",
    "        print(\"Epoch {} of {} took {:.3f} s\".format(epoch + 1, num_epochs, duration))\n",
    "        print(\"  training loss:\\t\\t{:.6f}\".format(train_err / train_batches))\n",
    "        print(\"  train accuracy:\\t\\t{:.2f} %\".format(train_acc / train_batches * 100))\n",
    "        print(\"  validation accuracy:\\t\\t{:.2f} %\".format(val_acc / val_batches * 100))\n",
    "\n",
    "        plt.figure(figsize=[8,4])\n",
    "        plt.plot(zip(*log)[0], label='Loss')\n",
    "        plt.ylim(0, 2.5)\n",
    "        plt.legend(loc='best')\n",
    "        plt.grid()\n",
    "        time_since_update = 0\n",
    "\n",
    "        plt.show()\n",
    "    \n",
    "    return time_since_update"
   ]
  },
  {
   "cell_type": "code",
   "execution_count": 7,
   "metadata": {
    "collapsed": true
   },
   "outputs": [],
   "source": [
    "import time\n",
    "\n",
    "def train_network(num_epochs, batch_size, log, X_train, y_train, X_val, y_val, X_test, y_test):\n",
    "    '''Perform training of a network.'''\n",
    "    \n",
    "    time_since_update = 0\n",
    "\n",
    "    for epoch in range(num_epochs):\n",
    "        # do a full pass over the training data\n",
    "        train_err = 0\n",
    "        train_acc = 0\n",
    "        train_batches = 0\n",
    "        start_time = time.time()\n",
    "        for batch in iterate_minibatches(X_train, y_train, batch_size):\n",
    "            inputs, targets = batch\n",
    "            train_err_batch, train_acc_batch= train_fun(inputs, targets)\n",
    "            train_err += train_err_batch\n",
    "            train_acc += train_acc_batch\n",
    "            train_batches += 1\n",
    "\n",
    "        # do a full pass over the validation data\n",
    "        val_acc = 0\n",
    "        val_batches = 0\n",
    "        for batch in iterate_minibatches(X_val, y_val, batch_size):\n",
    "            inputs, targets = batch\n",
    "            val_acc += accuracy_fun(inputs, targets)\n",
    "            val_batches += 1\n",
    "\n",
    "        time_since_update += time.time() - start_time\n",
    "        time_since_update = update_progress(epoch, num_epochs, \n",
    "                                            time_since_update, \n",
    "                                            time.time() - start_time, \n",
    "                                            train_err, train_acc, val_acc, \n",
    "                                            train_batches, val_batches, \n",
    "                                            log)\n",
    "\n",
    "    # log == [train_err/train_batches, train_err, train_acc, val_acc, train_batches, val_batches, duration]\n",
    "\n",
    "    last_entry = log[-1]  # plot the last epoch in case it didn't show\n",
    "\n",
    "    time_since_update = update_progress(num_epochs - 1, num_epochs, \n",
    "                                        2, \n",
    "                                        last_entry[-1], \n",
    "                                        last_entry[1], last_entry[2], last_entry[3], \n",
    "                                        last_entry[4], last_entry[5], \n",
    "                                        log)\n",
    "    # evaluate on the test data\n",
    "    test_acc = 0\n",
    "    test_batches = 0\n",
    "    for batch in iterate_minibatches(X_test, y_test, 500):\n",
    "        inputs, targets = batch\n",
    "        acc = accuracy_fun(inputs, targets)\n",
    "        test_acc += acc\n",
    "        test_batches += 1\n",
    "    print(\"Final results:\")\n",
    "    print(\"  test accuracy:\\t\\t{:.2f} %\".format(test_acc / test_batches * 100))\n",
    "    print"
   ]
  },
  {
   "cell_type": "markdown",
   "metadata": {},
   "source": [
    "## Sanity checks"
   ]
  },
  {
   "cell_type": "markdown",
   "metadata": {},
   "source": [
    "#### Checking that the loss is reasonable\n",
    "Loss should be ~2.3 without any regularization."
   ]
  },
  {
   "cell_type": "code",
   "execution_count": 8,
   "metadata": {},
   "outputs": [
    {
     "name": "stdout",
     "output_type": "stream",
     "text": [
      "2.29487910313\n"
     ]
    }
   ],
   "source": [
    "check_input, check_target = iterate_minibatches(X_train, y_train, 50).next()\n",
    "check_loss, check_acc = train_fun(check_input, check_target)\n",
    "print check_loss"
   ]
  },
  {
   "cell_type": "markdown",
   "metadata": {},
   "source": [
    "#### Making sure we can overfit a small portion of the data\n",
    "i.e. get ~0 loss and ~100% accuracy."
   ]
  },
  {
   "cell_type": "code",
   "execution_count": 11,
   "metadata": {},
   "outputs": [
    {
     "name": "stdout",
     "output_type": "stream",
     "text": [
      "Epoch 100 of 100 took 0.076 s\n",
      "  training loss:\t\t0.011280\n",
      "  train accuracy:\t\t100.00 %\n",
      "  validation accuracy:\t\t100.00 %\n"
     ]
    },
    {
     "data": {
      "image/png": "[encoded data removed]",
      "text/plain": [
       "<matplotlib.figure.Figure at 0x122358d90>"
      ]
     },
     "metadata": {},
     "output_type": "display_data"
    },
    {
     "name": "stdout",
     "output_type": "stream",
     "text": [
      "Final results:\n",
      "  test accuracy:\t\t100.00 %\n",
      "\n",
      "CPU times: user 10.5 s, sys: 962 ms, total: 11.4 s\n",
      "Wall time: 11 s\n"
     ]
    }
   ],
   "source": [
    "%%time\n",
    "\n",
    "X_tiny = X_train[:20]\n",
    "y_tiny = y_train[:20]\n",
    "\n",
    "log_tiny = [] #[train_err/train_batches, train_err, train_acc, val_acc, train_batches, val_batches, duration]\n",
    "\n",
    "train_network(100, 20, log_tiny, X_tiny, y_tiny, X_tiny, y_tiny, X_tiny, y_tiny)"
   ]
  },
  {
   "cell_type": "markdown",
   "metadata": {},
   "source": [
    "## Training the default network\n",
    "Network weights are reinitialized beforehand."
   ]
  },
  {
   "cell_type": "code",
   "execution_count": 8,
   "metadata": {
    "scrolled": false
   },
   "outputs": [
    {
     "name": "stdout",
     "output_type": "stream",
     "text": [
      "Epoch 100 of 100 took 116.528 s\n",
      "  training loss:\t\t0.806457\n",
      "  train accuracy:\t\t71.11 %\n",
      "  validation accuracy:\t\t66.16 %\n"
     ]
    },
    {
     "data": {
      "image/png": "[encoded data removed]",
      "text/plain": [
       "<matplotlib.figure.Figure at 0x127243a10>"
      ]
     },
     "metadata": {},
     "output_type": "display_data"
    },
    {
     "name": "stdout",
     "output_type": "stream",
     "text": [
      "Final results:\n",
      "  test accuracy:\t\t65.17 %\n",
      "\n",
      "CPU times: user 3h 19min 19s, sys: 19min 21s, total: 3h 38min 40s\n",
      "Wall time: 3h 15min 5s\n"
     ]
    }
   ],
   "source": [
    "%%time\n",
    "\n",
    "log_default = []\n",
    "\n",
    "train_network(100, 50, log_default, X_train, y_train, X_val, y_val, X_test, y_test)"
   ]
  },
  {
   "cell_type": "code",
   "execution_count": 9,
   "metadata": {
    "collapsed": true
   },
   "outputs": [],
   "source": [
    "# save the network weights to a file\n",
    "np.savez('network_default.npz', *lasagne.layers.get_all_param_values(conv_1))\n",
    "\n",
    "# to load them again later on:\n",
    "# with np.load('network_default.npz') as f:\n",
    "#     param_values = [f['arr_%d' % i] for i in range(len(f.files))]\n",
    "# lasagne.layers.set_all_param_values(network, param_values)"
   ]
  },
  {
   "cell_type": "code",
   "execution_count": 20,
   "metadata": {
    "collapsed": true
   },
   "outputs": [],
   "source": [
    "# save the training log to a file\n",
    "np.save('log_default.npy', log_default)"
   ]
  },
  {
   "cell_type": "markdown",
   "metadata": {},
   "source": [
    "## Modified network\n",
    "Instead of every n-filter conv layer the following structure is implemented:<br>\n",
    "`concatLayer([ incoming -> conv1x1(m) -> conv3x3(m) for _ in range(k) ])`<br>\n",
    "where `k` is the number of branches a single input is spread into, and `m = n/k`."
   ]
  },
  {
   "cell_type": "code",
   "execution_count": 16,
   "metadata": {},
   "outputs": [
    {
     "name": "stdout",
     "output_type": "stream",
     "text": [
      "1.414142857\n"
     ]
    }
   ],
   "source": [
    "gain_leaky = np.sqrt(2/(1+0.01**2))  # gain value for Glorot init with Leaky ReLU, alpha = 0.01\n",
    "print gain_leaky"
   ]
  },
  {
   "cell_type": "code",
   "execution_count": 50,
   "metadata": {
    "collapsed": true
   },
   "outputs": [],
   "source": [
    "comp_scale = 4    # initial number of filters for conv layers\n",
    "num_branches = 2  # number of branches a single conv layer is turned into\n",
    "branch_cap = int(comp_scale/num_branches)  # number of filters for a conv layer of a single branch\n",
    "gain_branch = 1.0/num_branches\n",
    "\n",
    "# GlorotUniform is the default weights initialization\n",
    "# 0.01 is the default leakiness for leaky_rectify nonlinearity\n",
    "\n",
    "input_layer = lasagne.layers.InputLayer(shape = input_shape, \n",
    "                                        input_var = input_X)\n",
    "\n",
    "# instead of conv_1:\n",
    "branches_1_1 = []\n",
    "branches_1_2 = []\n",
    "for i in range(num_branches):\n",
    "    branches_1_1.append(lasagne.layers.Conv2DLayer(input_layer, \n",
    "                                                   num_filters = branch_cap, \n",
    "                                                   filter_size = (1, 1), \n",
    "                                                   W = lasagne.init.GlorotUniform(gain = gain_leaky), \n",
    "                                                   nonlinearity = lasagne.nonlinearities.leaky_rectify))\n",
    "    branches_1_2.append(lasagne.layers.Conv2DLayer(branches_1_1[i], \n",
    "                                                   num_filters = branch_cap, \n",
    "                                                   filter_size = (3, 3), \n",
    "                                                   W = lasagne.init.GlorotUniform(gain = gain_branch), \n",
    "                                                   nonlinearity = lasagne.nonlinearities.leaky_rectify))\n",
    "concat_1 = lasagne.layers.ConcatLayer(branches_1_2)\n",
    "\n",
    "\n",
    "# instead of conv_2:\n",
    "branches_2_1 = []\n",
    "branches_2_2 = []\n",
    "for i in range(num_branches):\n",
    "    branches_2_1.append(lasagne.layers.Conv2DLayer(concat_1, \n",
    "                                                   num_filters = branch_cap, \n",
    "                                                   filter_size = (1, 1), \n",
    "                                                   W = lasagne.init.GlorotUniform(gain = gain_leaky), \n",
    "                                                   nonlinearity = lasagne.nonlinearities.leaky_rectify))\n",
    "    branches_2_2.append(lasagne.layers.Conv2DLayer(branches_2_1[i], \n",
    "                                                   num_filters = branch_cap, \n",
    "                                                   filter_size = (3, 3), \n",
    "                                                   W = lasagne.init.GlorotUniform(gain = gain_branch), \n",
    "                                                   nonlinearity = lasagne.nonlinearities.leaky_rectify))\n",
    "concat_2 = lasagne.layers.ConcatLayer(branches_2_2)\n",
    "\n",
    "\n",
    "max_pool_1 = lasagne.layers.MaxPool2DLayer(concat_2, \n",
    "                                           pool_size = 2)\n",
    "\n",
    "# instead of conv_3:\n",
    "branches_3_1 = []\n",
    "branches_3_2 = []\n",
    "for i in range(num_branches):\n",
    "    branches_3_1.append(lasagne.layers.Conv2DLayer(max_pool_1, \n",
    "                                                   num_filters = int(branch_cap * 1.5),\n",
    "                                                   filter_size = (1, 1), \n",
    "                                                   W = lasagne.init.GlorotUniform(gain = gain_leaky), \n",
    "                                                   nonlinearity = lasagne.nonlinearities.leaky_rectify))\n",
    "    branches_3_2.append(lasagne.layers.Conv2DLayer(branches_3_1[i], \n",
    "                                                   num_filters = int(branch_cap * 1.5), \n",
    "                                                   filter_size = (3, 3), \n",
    "                                                   W = lasagne.init.GlorotUniform(gain = gain_branch), \n",
    "                                                   nonlinearity = lasagne.nonlinearities.leaky_rectify))\n",
    "concat_3 = lasagne.layers.ConcatLayer(branches_3_2)\n",
    "\n",
    "\n",
    "# instead of conv_4:\n",
    "branches_4_1 = []\n",
    "branches_4_2 = []\n",
    "for i in range(num_branches):\n",
    "    branches_4_1.append(lasagne.layers.Conv2DLayer(concat_3, \n",
    "                                                   num_filters = int(branch_cap * 1.5),\n",
    "                                                   filter_size = (1, 1), \n",
    "                                                   W = lasagne.init.GlorotUniform(gain = gain_leaky), \n",
    "                                                   nonlinearity = lasagne.nonlinearities.leaky_rectify))\n",
    "    branches_4_2.append(lasagne.layers.Conv2DLayer(branches_4_1[i], \n",
    "                                                   num_filters = int(branch_cap * 1.5), \n",
    "                                                   filter_size = (3, 3), \n",
    "                                                   W = lasagne.init.GlorotUniform(gain = gain_branch), \n",
    "                                                   nonlinearity = lasagne.nonlinearities.leaky_rectify))\n",
    "concat_4 = lasagne.layers.ConcatLayer(branches_4_2)\n",
    "\n",
    "\n",
    "max_pool_2 = lasagne.layers.MaxPool2DLayer(concat_4, \n",
    "                                           pool_size = 2)\n",
    "\n",
    "# instead of conv_5:\n",
    "branches_5_1 = []\n",
    "branches_5_2 = []\n",
    "for i in range(num_branches):\n",
    "    branches_5_1.append(lasagne.layers.Conv2DLayer(max_pool_2, \n",
    "                                                   num_filters = branch_cap * 2,\n",
    "                                                   filter_size = (1, 1), \n",
    "                                                   W = lasagne.init.GlorotUniform(gain = gain_leaky), \n",
    "                                                   nonlinearity = lasagne.nonlinearities.leaky_rectify))\n",
    "    branches_5_2.append(lasagne.layers.Conv2DLayer(branches_5_1[i], \n",
    "                                                   num_filters = branch_cap * 2, \n",
    "                                                   filter_size = (3, 3), \n",
    "                                                   W = lasagne.init.GlorotUniform(gain = gain_branch), \n",
    "                                                   nonlinearity = lasagne.nonlinearities.leaky_rectify))\n",
    "concat_5 = lasagne.layers.ConcatLayer(branches_5_2)\n",
    "\n",
    "\n",
    "# instead of conv_6:\n",
    "branches_6_1 = []\n",
    "branches_6_2 = []\n",
    "for i in range(num_branches):\n",
    "    branches_6_1.append(lasagne.layers.Conv2DLayer(concat_5, \n",
    "                                                   num_filters = branch_cap * 2,\n",
    "                                                   filter_size = (1, 1), \n",
    "                                                   W = lasagne.init.GlorotUniform(gain = gain_leaky), \n",
    "                                                   nonlinearity = lasagne.nonlinearities.leaky_rectify))\n",
    "    branches_6_2.append(lasagne.layers.Conv2DLayer(branches_6_1[i], \n",
    "                                                   num_filters = branch_cap * 2, \n",
    "                                                   filter_size = (3, 3), \n",
    "                                                   W = lasagne.init.GlorotUniform(gain = gain_branch), \n",
    "                                                   nonlinearity = lasagne.nonlinearities.leaky_rectify))\n",
    "concat_6 = lasagne.layers.ConcatLayer(branches_6_2)\n",
    "\n",
    "\n",
    "global_pool = lasagne.layers.GlobalPoolLayer(concat_6)\n",
    "\n",
    "dense_output = lasagne.layers.DenseLayer(global_pool, \n",
    "                                         num_units = 10, \n",
    "                                         nonlinearity = lasagne.nonlinearities.softmax)"
   ]
  },
  {
   "cell_type": "code",
   "execution_count": 51,
   "metadata": {
    "collapsed": true
   },
   "outputs": [],
   "source": [
    "y_predicted = lasagne.layers.get_output(dense_output)\n",
    "\n",
    "all_weights = lasagne.layers.get_all_params(dense_output, trainable=True)\n",
    "\n",
    "loss = lasagne.objectives.categorical_crossentropy(y_predicted, target_y).mean()\n",
    "\n",
    "accuracy = lasagne.objectives.categorical_accuracy(y_predicted, target_y).mean()\n",
    "\n",
    "\n",
    "# weights update\n",
    "updates = lasagne.updates.adamax(loss, all_weights)\n",
    "\n",
    "\n",
    "# a function that accepts X and y, returns loss functions and performs weight updates\n",
    "train_fun = theano.function([input_X, target_y], [loss, accuracy], updates = updates)\n",
    "\n",
    "\n",
    "# deterministic prediciton\n",
    "y_predicted_det = lasagne.layers.get_output(dense_output, deterministic = True)\n",
    "\n",
    "# deterministic accuracy\n",
    "accuracy_det = lasagne.objectives.categorical_accuracy(y_predicted_det, target_y).mean()\n",
    "\n",
    "# function that computes that accuracy\n",
    "accuracy_fun = theano.function([input_X, target_y], accuracy_det)"
   ]
  },
  {
   "cell_type": "markdown",
   "metadata": {},
   "source": [
    "## Sanity checks"
   ]
  },
  {
   "cell_type": "markdown",
   "metadata": {},
   "source": [
    "#### Checking that the loss is reasonable\n",
    "Loss should be ~2.3 without any regularization."
   ]
  },
  {
   "cell_type": "code",
   "execution_count": 22,
   "metadata": {},
   "outputs": [
    {
     "name": "stdout",
     "output_type": "stream",
     "text": [
      "2.30258549707\n"
     ]
    }
   ],
   "source": [
    "check_input, check_target = iterate_minibatches(X_train, y_train, 50).next()\n",
    "check_loss, check_acc = train_fun(check_input, check_target)\n",
    "print check_loss"
   ]
  },
  {
   "cell_type": "markdown",
   "metadata": {},
   "source": [
    "#### Making sure we can overfit a small portion of the data\n",
    "i.e. get ~0 loss and ~100% accuracy."
   ]
  },
  {
   "cell_type": "code",
   "execution_count": 49,
   "metadata": {},
   "outputs": [
    {
     "name": "stdout",
     "output_type": "stream",
     "text": [
      "Epoch 400 of 400 took 0.050 s\n",
      "  training loss:\t\t0.173023\n",
      "  train accuracy:\t\t95.00 %\n",
      "  validation accuracy:\t\t95.00 %\n"
     ]
    },
    {
     "data": {
      "image/png": "[encoded data removed]",
      "text/plain": [
       "<matplotlib.figure.Figure at 0x10c7cc5d0>"
      ]
     },
     "metadata": {},
     "output_type": "display_data"
    },
    {
     "name": "stdout",
     "output_type": "stream",
     "text": [
      "Final results:\n",
      "  test accuracy:\t\t95.00 %\n",
      "\n",
      "CPU times: user 26.2 s, sys: 2.21 s, total: 28.4 s\n",
      "Wall time: 29.1 s\n"
     ]
    }
   ],
   "source": [
    "%%time\n",
    "\n",
    "X_tiny = X_train[:20]\n",
    "y_tiny = y_train[:20]\n",
    "\n",
    "log_tiny = [] #[train_err/train_batches, train_err, train_acc, val_acc, train_batches, val_batches, duration]\n",
    "\n",
    "train_network(400, 20, log_tiny, X_tiny, y_tiny, X_tiny, y_tiny, X_tiny, y_tiny)"
   ]
  },
  {
   "cell_type": "markdown",
   "metadata": {},
   "source": [
    "## Training the modified network"
   ]
  },
  {
   "cell_type": "code",
   "execution_count": 52,
   "metadata": {},
   "outputs": [
    {
     "name": "stdout",
     "output_type": "stream",
     "text": [
      "Epoch 400 of 400 took 89.299 s\n",
      "  training loss:\t\t1.205077\n",
      "  train accuracy:\t\t57.08 %\n",
      "  validation accuracy:\t\t55.37 %\n"
     ]
    },
    {
     "data": {
      "image/png": "[encoded data removed]",
      "text/plain": [
       "<matplotlib.figure.Figure at 0x114b99310>"
      ]
     },
     "metadata": {},
     "output_type": "display_data"
    },
    {
     "name": "stdout",
     "output_type": "stream",
     "text": [
      "Final results:\n",
      "  test accuracy:\t\t54.54 %\n",
      "\n",
      "CPU times: user 8h 7min 15s, sys: 1h 46min 27s, total: 9h 53min 43s\n",
      "Wall time: 9h 56min 4s\n"
     ]
    }
   ],
   "source": [
    "%%time\n",
    "\n",
    "log_branches = []\n",
    "\n",
    "train_network(400, 50, log_branches, X_train, y_train, X_val, y_val, X_test, y_test)"
   ]
  },
  {
   "cell_type": "code",
   "execution_count": 53,
   "metadata": {
    "collapsed": true
   },
   "outputs": [],
   "source": [
    "np.savez('network_branches.npz', *lasagne.layers.get_all_param_values(input_layer))"
   ]
  },
  {
   "cell_type": "code",
   "execution_count": 54,
   "metadata": {
    "collapsed": true
   },
   "outputs": [],
   "source": [
    "np.save('log_branches.npy', log_branches)"
   ]
  }
 ],
 "metadata": {
  "kernelspec": {
   "display_name": "Python 2",
   "language": "python",
   "name": "python2"
  },
  "language_info": {
   "codemirror_mode": {
    "name": "ipython",
    "version": 2
   },
   "file_extension": ".py",
   "mimetype": "text/x-python",
   "name": "python",
   "nbconvert_exporter": "python",
   "pygments_lexer": "ipython2",
   "version": "2.7.14"
  }
 },
 "nbformat": 4,
 "nbformat_minor": 2
}
