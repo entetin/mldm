{
 "cells": [
  {
   "cell_type": "markdown",
   "metadata": {},
   "source": [
    "## Neural Network comparison\n",
    "In this notebook three different convolutional neural networks are built and trained on the same CIFAR-10 dataset.\n",
    "\n",
    "1. The first 'default' network is built according to the provided base architecture.\n",
    "2. The second network is a modified version of the 'default' network where the nonlinearity functions of the convolutional layers are changed to sigmoid.\n",
    "3. The last network is modified in the same way but with the ELU nonlinearities.\n",
    "\n",
    "As expected, the 'sigmoid' network performed the worst. Its loss convergence is close to linear and did not produce a good rate after 100 epochs (55% accuracy). The 'default' (Leaky ReLU) and 'ELU' networks both converged to a similar state rather quickly but failed to achieve good results overall, staying at ~65% accuracy during test time.\n",
    "\n",
    "The process of the network building and training is presented below."
   ]
  },
  {
   "cell_type": "markdown",
   "metadata": {},
   "source": [
    "## Preparing the data"
   ]
  },
  {
   "cell_type": "code",
   "execution_count": 1,
   "metadata": {
    "collapsed": true
   },
   "outputs": [],
   "source": [
    "import numpy as np\n",
    "from cifar import load_cifar10\n",
    "\n",
    "# load cifar-10 dataset\n",
    "X_train, y_train, X_val, y_val, X_test, y_test = load_cifar10(\"cifar_data\")"
   ]
  },
  {
   "cell_type": "code",
   "execution_count": 2,
   "metadata": {
    "collapsed": true
   },
   "outputs": [],
   "source": [
    "import theano\n",
    "import theano.tensor as T\n",
    "import lasagne\n",
    "\n",
    "# input data\n",
    "input_X = T.tensor4(\"input X\")\n",
    "\n",
    "# input dimension\n",
    "input_shape = [None,3,32,32]\n",
    "\n",
    "# target labels\n",
    "target_y = T.vector(\"target Y\", dtype='int32')"
   ]
  },
  {
   "cell_type": "markdown",
   "metadata": {},
   "source": [
    "## Building the network"
   ]
  },
  {
   "cell_type": "markdown",
   "metadata": {},
   "source": [
    "Default network architecture"
   ]
  },
  {
   "cell_type": "code",
   "execution_count": 3,
   "metadata": {
    "collapsed": true
   },
   "outputs": [],
   "source": [
    "comp_scale = 8  # computational resources parameter\n",
    "\n",
    "# GlorotUniform is the default weights initialization\n",
    "# 0.01 is the default leakiness for leaky_rectify nonlinearity\n",
    "\n",
    "input_layer = lasagne.layers.InputLayer(shape = input_shape, \n",
    "                                        input_var = input_X, \n",
    "                                        name = 'input')\n",
    "\n",
    "conv_1 = lasagne.layers.Conv2DLayer(input_layer, \n",
    "                                    num_filters = comp_scale, \n",
    "                                    filter_size = (3, 3), \n",
    "                                    nonlinearity = lasagne.nonlinearities.leaky_rectify, \n",
    "                                    name = 'conv_1')\n",
    "\n",
    "conv_2 = lasagne.layers.Conv2DLayer(conv_1, \n",
    "                                    num_filters = comp_scale, \n",
    "                                    filter_size = (3, 3), \n",
    "                                    nonlinearity = lasagne.nonlinearities.leaky_rectify, \n",
    "                                    name = 'conv_2')\n",
    "\n",
    "max_pool_1 = lasagne.layers.MaxPool2DLayer(conv_2, \n",
    "                                           pool_size = 2, \n",
    "                                           name = 'max_pool_1')\n",
    "\n",
    "conv_3 = lasagne.layers.Conv2DLayer(max_pool_1, \n",
    "                                    num_filters = int(comp_scale * 1.5), \n",
    "                                    filter_size = (3, 3), \n",
    "                                    nonlinearity = lasagne.nonlinearities.leaky_rectify, \n",
    "                                    name = 'conv_3')\n",
    "\n",
    "conv_4 = lasagne.layers.Conv2DLayer(conv_3, \n",
    "                                    num_filters = int(comp_scale * 1.5), \n",
    "                                    filter_size = (3, 3), \n",
    "                                    nonlinearity = lasagne.nonlinearities.leaky_rectify, \n",
    "                                    name = 'conv_4')\n",
    "\n",
    "max_pool_2 = lasagne.layers.MaxPool2DLayer(conv_4, \n",
    "                                           pool_size = 2, \n",
    "                                           name = 'max_pool_2')\n",
    "\n",
    "conv_5 = lasagne.layers.Conv2DLayer(max_pool_2, \n",
    "                                    num_filters = comp_scale * 2, \n",
    "                                    filter_size = (3, 3), \n",
    "                                    nonlinearity = lasagne.nonlinearities.leaky_rectify, \n",
    "                                    name = 'conv_5')\n",
    "\n",
    "conv_6 = lasagne.layers.Conv2DLayer(conv_5, \n",
    "                                    num_filters = comp_scale * 2, \n",
    "                                    filter_size = (3, 3), \n",
    "                                    nonlinearity = lasagne.nonlinearities.leaky_rectify, \n",
    "                                    name = 'conv_6')\n",
    "\n",
    "global_pool = lasagne.layers.GlobalPoolLayer(conv_6, \n",
    "                                             name = 'global_pool')\n",
    "\n",
    "dense_output = lasagne.layers.DenseLayer(global_pool, \n",
    "                                         num_units = 10, \n",
    "                                         nonlinearity = lasagne.nonlinearities.softmax, \n",
    "                                         name = 'output')"
   ]
  },
  {
   "cell_type": "code",
   "execution_count": 4,
   "metadata": {
    "collapsed": true
   },
   "outputs": [],
   "source": [
    "y_predicted = lasagne.layers.get_output(dense_output)\n",
    "\n",
    "all_weights = lasagne.layers.get_all_params(dense_output, trainable=True)\n",
    "\n",
    "loss = lasagne.objectives.categorical_crossentropy(y_predicted, target_y).mean()\n",
    "\n",
    "accuracy = lasagne.objectives.categorical_accuracy(y_predicted, target_y).mean()\n",
    "\n",
    "\n",
    "# weights update\n",
    "updates = lasagne.updates.adamax(loss, all_weights)\n",
    "\n",
    "\n",
    "# a function that accepts X and y, returns loss functions and performs weight updates\n",
    "train_fun = theano.function([input_X, target_y], [loss, accuracy], updates = updates)\n",
    "\n",
    "\n",
    "# deterministic prediciton\n",
    "y_predicted_det = lasagne.layers.get_output(dense_output, deterministic = True)\n",
    "\n",
    "# deterministic accuracy\n",
    "accuracy_det = lasagne.objectives.categorical_accuracy(y_predicted_det, target_y).mean()\n",
    "\n",
    "# function that computes that accuracy\n",
    "accuracy_fun = theano.function([input_X, target_y], accuracy_det)"
   ]
  },
  {
   "cell_type": "markdown",
   "metadata": {},
   "source": [
    "## Auxiliary functions"
   ]
  },
  {
   "cell_type": "code",
   "execution_count": 5,
   "metadata": {
    "collapsed": true
   },
   "outputs": [],
   "source": [
    "def iterate_minibatches(X, y, batchsize):    \n",
    "    '''Return an iterable of (X_batch, y_batch) batches of images and answers for them.'''\n",
    "    \n",
    "    size = len(X)\n",
    "    indices = np.arange(size)\n",
    "    np.random.shuffle(indices)\n",
    "    \n",
    "    for start_idx in range(0, size, batchsize):\n",
    "        excerpt = indices[start_idx : start_idx + batchsize]\n",
    "        yield X[excerpt], y[excerpt]"
   ]
  },
  {
   "cell_type": "code",
   "execution_count": 6,
   "metadata": {
    "collapsed": true
   },
   "outputs": [],
   "source": [
    "import matplotlib.pyplot as plt\n",
    "%matplotlib inline\n",
    "from IPython.display import clear_output\n",
    "\n",
    "def update_progress(epoch, num_epochs, \n",
    "                  time_since_update, duration, \n",
    "                  train_err, train_acc, val_acc, \n",
    "                  train_batches, val_batches, \n",
    "                  log):\n",
    "    '''Display training progress. Update every second.'''\n",
    "    \n",
    "    # should be if log len is num_epochs or smth\n",
    "    if epoch < num_epochs - 1:\n",
    "        if train_batches > 0:\n",
    "            log.append([train_err/train_batches, train_err, train_acc, val_acc, train_batches, val_batches, duration])\n",
    "        else:\n",
    "            log.append([0, train_err, train_acc, val_acc, train_batches, val_batches, duration])\n",
    "\n",
    "    if time_since_update > 1:\n",
    "        \n",
    "        clear_output(True)\n",
    "\n",
    "        print(\"Epoch {} of {} took {:.3f} s\".format(epoch + 1, num_epochs, duration))\n",
    "        print(\"  training loss:\\t\\t{:.6f}\".format(train_err / train_batches))\n",
    "        print(\"  train accuracy:\\t\\t{:.2f} %\".format(train_acc / train_batches * 100))\n",
    "        print(\"  validation accuracy:\\t\\t{:.2f} %\".format(val_acc / val_batches * 100))\n",
    "\n",
    "        plt.figure(figsize=[8,4])\n",
    "        plt.plot(zip(*log)[0], label='Loss')\n",
    "        plt.ylim(0, 2.5)\n",
    "        plt.legend(loc='best')\n",
    "        plt.grid()\n",
    "        time_since_update = 0\n",
    "\n",
    "        plt.show()\n",
    "    \n",
    "    return time_since_update"
   ]
  },
  {
   "cell_type": "code",
   "execution_count": 7,
   "metadata": {
    "collapsed": true
   },
   "outputs": [],
   "source": [
    "import time\n",
    "\n",
    "def train_network(num_epochs, batch_size, log, X_train, y_train, X_val, y_val, X_test, y_test):\n",
    "    '''Perform training of a network.'''\n",
    "    \n",
    "    time_since_update = 0\n",
    "\n",
    "    for epoch in range(num_epochs):\n",
    "        # do a full pass over the training data\n",
    "        train_err = 0\n",
    "        train_acc = 0\n",
    "        train_batches = 0\n",
    "        start_time = time.time()\n",
    "        for batch in iterate_minibatches(X_train, y_train, batch_size):\n",
    "            inputs, targets = batch\n",
    "            train_err_batch, train_acc_batch= train_fun(inputs, targets)\n",
    "            train_err += train_err_batch\n",
    "            train_acc += train_acc_batch\n",
    "            train_batches += 1\n",
    "\n",
    "        # do a full pass over the validation data\n",
    "        val_acc = 0\n",
    "        val_batches = 0\n",
    "        for batch in iterate_minibatches(X_val, y_val, batch_size):\n",
    "            inputs, targets = batch\n",
    "            val_acc += accuracy_fun(inputs, targets)\n",
    "            val_batches += 1\n",
    "\n",
    "        time_since_update += time.time() - start_time\n",
    "        time_since_update = update_progress(epoch, num_epochs, \n",
    "                                            time_since_update, \n",
    "                                            time.time() - start_time, \n",
    "                                            train_err, train_acc, val_acc, \n",
    "                                            train_batches, val_batches, \n",
    "                                            log)\n",
    "\n",
    "    # log == [train_err/train_batches, train_err, train_acc, val_acc, train_batches, val_batches, duration]\n",
    "\n",
    "    last_entry = log[-1]  # plot the last epoch in case it didn't show\n",
    "\n",
    "    time_since_update = update_progress(num_epochs - 1, num_epochs, \n",
    "                                        2, \n",
    "                                        last_entry[-1], \n",
    "                                        last_entry[1], last_entry[2], last_entry[3], \n",
    "                                        last_entry[4], last_entry[5], \n",
    "                                        log)\n",
    "    # evaluate on the test data\n",
    "    test_acc = 0\n",
    "    test_batches = 0\n",
    "    for batch in iterate_minibatches(X_test, y_test, 500):\n",
    "        inputs, targets = batch\n",
    "        acc = accuracy_fun(inputs, targets)\n",
    "        test_acc += acc\n",
    "        test_batches += 1\n",
    "    print(\"Final results:\")\n",
    "    print(\"  test accuracy:\\t\\t{:.2f} %\".format(test_acc / test_batches * 100))\n",
    "    print"
   ]
  },
  {
   "cell_type": "markdown",
   "metadata": {},
   "source": [
    "## Sanity checks"
   ]
  },
  {
   "cell_type": "markdown",
   "metadata": {},
   "source": [
    "#### Checking that the loss is reasonable\n",
    "Loss should be ~2.3 without any regularization."
   ]
  },
  {
   "cell_type": "code",
   "execution_count": 137,
   "metadata": {},
   "outputs": [
    {
     "name": "stdout",
     "output_type": "stream",
     "text": [
      "2.31379168307\n"
     ]
    }
   ],
   "source": [
    "check_input, check_target = iterate_minibatches(X_train, y_train, 50).next()\n",
    "check_loss, check_acc = train_fun(check_input, check_target)\n",
    "print check_loss"
   ]
  },
  {
   "cell_type": "markdown",
   "metadata": {},
   "source": [
    "#### Making sure we can overfit a small portion of the data\n",
    "i.e. get ~0 loss and ~100% accuracy."
   ]
  },
  {
   "cell_type": "code",
   "execution_count": 47,
   "metadata": {},
   "outputs": [
    {
     "name": "stdout",
     "output_type": "stream",
     "text": [
      "Epoch 100 of 100 took 0.071 s\n",
      "  training loss:\t\t0.003688\n",
      "  train accuracy:\t\t100.00 %\n",
      "  validation accuracy:\t\t100.00 %\n"
     ]
    },
    {
     "data": {
      "image/png": "[encoded data removed]",
      "text/plain": [
       "<matplotlib.figure.Figure at 0x11f388950>"
      ]
     },
     "metadata": {},
     "output_type": "display_data"
    },
    {
     "name": "stdout",
     "output_type": "stream",
     "text": [
      "Final results:\n",
      "  test accuracy:\t\t100.00 %\n",
      "\n",
      "CPU times: user 10.7 s, sys: 948 ms, total: 11.7 s\n",
      "Wall time: 12.3 s\n"
     ]
    }
   ],
   "source": [
    "%%time\n",
    "\n",
    "X_tiny = X_train[:20]\n",
    "y_tiny = y_train[:20]\n",
    "\n",
    "log_tiny = [] #[train_err/train_batches, train_err, train_acc, val_acc, train_batches, val_batches, duration]\n",
    "\n",
    "train_network(100, 20, log_tiny, X_tiny, y_tiny, X_tiny, y_tiny, X_tiny, y_tiny)"
   ]
  },
  {
   "cell_type": "markdown",
   "metadata": {},
   "source": [
    "## Training the default network\n",
    "Network weights are reinitialized beforehand."
   ]
  },
  {
   "cell_type": "code",
   "execution_count": 8,
   "metadata": {
    "scrolled": false
   },
   "outputs": [
    {
     "name": "stdout",
     "output_type": "stream",
     "text": [
      "Epoch 100 of 100 took 116.528 s\n",
      "  training loss:\t\t0.806457\n",
      "  train accuracy:\t\t71.11 %\n",
      "  validation accuracy:\t\t66.16 %\n"
     ]
    },
    {
     "data": {
      "image/png": "[encoded data removed]",
      "text/plain": [
       "<matplotlib.figure.Figure at 0x127243a10>"
      ]
     },
     "metadata": {},
     "output_type": "display_data"
    },
    {
     "name": "stdout",
     "output_type": "stream",
     "text": [
      "Final results:\n",
      "  test accuracy:\t\t65.17 %\n",
      "\n",
      "CPU times: user 3h 19min 19s, sys: 19min 21s, total: 3h 38min 40s\n",
      "Wall time: 3h 15min 5s\n"
     ]
    }
   ],
   "source": [
    "%%time\n",
    "\n",
    "log_default = []\n",
    "\n",
    "train_network(100, 50, log_default, X_train, y_train, X_val, y_val, X_test, y_test)"
   ]
  },
  {
   "cell_type": "code",
   "execution_count": 9,
   "metadata": {
    "collapsed": true
   },
   "outputs": [],
   "source": [
    "# save the network weights to a file\n",
    "np.savez('network_default.npz', *lasagne.layers.get_all_param_values(conv_1))\n",
    "\n",
    "# to load them again later on:\n",
    "# with np.load('network_default.npz') as f:\n",
    "#     param_values = [f['arr_%d' % i] for i in range(len(f.files))]\n",
    "# lasagne.layers.set_all_param_values(network, param_values)"
   ]
  },
  {
   "cell_type": "code",
   "execution_count": 20,
   "metadata": {
    "collapsed": true
   },
   "outputs": [],
   "source": [
    "# save the training log to a file\n",
    "np.save('log_default.npy', log_default)"
   ]
  },
  {
   "cell_type": "markdown",
   "metadata": {},
   "source": [
    "## Modified network 1\n",
    "Nonlinearity of conv layers is changed to sigmoid."
   ]
  },
  {
   "cell_type": "code",
   "execution_count": 10,
   "metadata": {
    "collapsed": true
   },
   "outputs": [],
   "source": [
    "comp_scale = 8\n",
    "\n",
    "# GlorotUniform is the default weights initialization\n",
    "\n",
    "input_layer = lasagne.layers.InputLayer(shape = input_shape, \n",
    "                                        input_var = input_X, \n",
    "                                        name = 'input')\n",
    "\n",
    "conv_1 = lasagne.layers.Conv2DLayer(input_layer, \n",
    "                                    num_filters = comp_scale, \n",
    "                                    filter_size = (3, 3), \n",
    "                                    nonlinearity = lasagne.nonlinearities.sigmoid, \n",
    "                                    name = 'conv_1')\n",
    "\n",
    "conv_2 = lasagne.layers.Conv2DLayer(conv_1, \n",
    "                                    num_filters = comp_scale, \n",
    "                                    filter_size = (3, 3), \n",
    "                                    nonlinearity = lasagne.nonlinearities.sigmoid, \n",
    "                                    name = 'conv_2')\n",
    "\n",
    "max_pool_1 = lasagne.layers.MaxPool2DLayer(conv_2, \n",
    "                                           pool_size = 2, \n",
    "                                           name = 'max_pool_1')\n",
    "\n",
    "conv_3 = lasagne.layers.Conv2DLayer(max_pool_1, \n",
    "                                    num_filters = int(comp_scale * 1.5), \n",
    "                                    filter_size = (3, 3), \n",
    "                                    nonlinearity = lasagne.nonlinearities.sigmoid, \n",
    "                                    name = 'conv_3')\n",
    "\n",
    "conv_4 = lasagne.layers.Conv2DLayer(conv_3, \n",
    "                                    num_filters = int(comp_scale * 1.5), \n",
    "                                    filter_size = (3, 3), \n",
    "                                    nonlinearity = lasagne.nonlinearities.sigmoid, \n",
    "                                    name = 'conv_4')\n",
    "\n",
    "max_pool_2 = lasagne.layers.MaxPool2DLayer(conv_4, \n",
    "                                           pool_size = 2, \n",
    "                                           name = 'max_pool_2')\n",
    "\n",
    "conv_5 = lasagne.layers.Conv2DLayer(max_pool_2, \n",
    "                                    num_filters = comp_scale * 2, \n",
    "                                    filter_size = (3, 3), \n",
    "                                    nonlinearity = lasagne.nonlinearities.sigmoid, \n",
    "                                    name = 'conv_5')\n",
    "\n",
    "conv_6 = lasagne.layers.Conv2DLayer(conv_5, \n",
    "                                    num_filters = comp_scale * 2, \n",
    "                                    filter_size = (3, 3), \n",
    "                                    nonlinearity = lasagne.nonlinearities.sigmoid, \n",
    "                                    name = 'conv_6')\n",
    "\n",
    "global_pool = lasagne.layers.GlobalPoolLayer(conv_6, \n",
    "                                             name = 'global_pool')\n",
    "\n",
    "dense_output = lasagne.layers.DenseLayer(global_pool, \n",
    "                                         num_units = 10, \n",
    "                                         nonlinearity = lasagne.nonlinearities.softmax, \n",
    "                                         name = 'output')"
   ]
  },
  {
   "cell_type": "code",
   "execution_count": 11,
   "metadata": {
    "collapsed": true
   },
   "outputs": [],
   "source": [
    "y_predicted = lasagne.layers.get_output(dense_output)\n",
    "\n",
    "all_weights = lasagne.layers.get_all_params(dense_output, trainable=True)\n",
    "\n",
    "loss = lasagne.objectives.categorical_crossentropy(y_predicted, target_y).mean()\n",
    "\n",
    "accuracy = lasagne.objectives.categorical_accuracy(y_predicted, target_y).mean()\n",
    "\n",
    "\n",
    "# weights update\n",
    "updates = lasagne.updates.adamax(loss, all_weights)\n",
    "\n",
    "\n",
    "# a function that accepts X and y, returns loss functions and performs weight updates\n",
    "train_fun = theano.function([input_X, target_y], [loss, accuracy], updates = updates)\n",
    "\n",
    "\n",
    "# deterministic prediciton\n",
    "y_predicted_det = lasagne.layers.get_output(dense_output, deterministic = True)\n",
    "\n",
    "# deterministic accuracy\n",
    "accuracy_det = lasagne.objectives.categorical_accuracy(y_predicted_det, target_y).mean()\n",
    "\n",
    "# function that computes that accuracy\n",
    "accuracy_fun = theano.function([input_X, target_y], accuracy_det)"
   ]
  },
  {
   "cell_type": "code",
   "execution_count": 12,
   "metadata": {},
   "outputs": [
    {
     "name": "stdout",
     "output_type": "stream",
     "text": [
      "Epoch 100 of 100 took 126.136 s\n",
      "  training loss:\t\t1.217453\n",
      "  train accuracy:\t\t56.22 %\n",
      "  validation accuracy:\t\t55.44 %\n"
     ]
    },
    {
     "data": {
      "image/png": "[encoded data removed]",
      "text/plain": [
       "<matplotlib.figure.Figure at 0x12689e190>"
      ]
     },
     "metadata": {},
     "output_type": "display_data"
    },
    {
     "name": "stdout",
     "output_type": "stream",
     "text": [
      "Final results:\n",
      "  test accuracy:\t\t55.42 %\n",
      "\n",
      "CPU times: user 3h 39min 14s, sys: 16min 8s, total: 3h 55min 22s\n",
      "Wall time: 3h 31min 32s\n"
     ]
    }
   ],
   "source": [
    "%%time\n",
    "\n",
    "log_sigmoid = []\n",
    "\n",
    "train_network(100, 50, log_sigmoid, X_train, y_train, X_val, y_val, X_test, y_test)"
   ]
  },
  {
   "cell_type": "code",
   "execution_count": 13,
   "metadata": {
    "collapsed": true
   },
   "outputs": [],
   "source": [
    "np.savez('network_sigmoid.npz', *lasagne.layers.get_all_param_values(conv_1))"
   ]
  },
  {
   "cell_type": "code",
   "execution_count": 26,
   "metadata": {
    "collapsed": true
   },
   "outputs": [],
   "source": [
    "np.save('log_sigmoid.npy', log_sigmoid)"
   ]
  },
  {
   "cell_type": "markdown",
   "metadata": {},
   "source": [
    "## Modified network 2\n",
    "Nonlinearity of conv layers is changed to ELU."
   ]
  },
  {
   "cell_type": "code",
   "execution_count": 14,
   "metadata": {
    "collapsed": true
   },
   "outputs": [],
   "source": [
    "comp_scale = 8\n",
    "\n",
    "# GlorotUniform is the default weights initialization\n",
    "\n",
    "input_layer = lasagne.layers.InputLayer(shape = input_shape, \n",
    "                                        input_var = input_X, \n",
    "                                        name = 'input')\n",
    "\n",
    "conv_1 = lasagne.layers.Conv2DLayer(input_layer, \n",
    "                                    num_filters = comp_scale, \n",
    "                                    filter_size = (3, 3), \n",
    "                                    nonlinearity = lasagne.nonlinearities.elu, \n",
    "                                    name = 'conv_1')\n",
    "\n",
    "conv_2 = lasagne.layers.Conv2DLayer(conv_1, \n",
    "                                    num_filters = comp_scale, \n",
    "                                    filter_size = (3, 3), \n",
    "                                    nonlinearity = lasagne.nonlinearities.elu, \n",
    "                                    name = 'conv_2')\n",
    "\n",
    "max_pool_1 = lasagne.layers.MaxPool2DLayer(conv_2, \n",
    "                                           pool_size = 2, \n",
    "                                           name = 'max_pool_1')\n",
    "\n",
    "conv_3 = lasagne.layers.Conv2DLayer(max_pool_1, \n",
    "                                    num_filters = int(comp_scale * 1.5), \n",
    "                                    filter_size = (3, 3), \n",
    "                                    nonlinearity = lasagne.nonlinearities.elu, \n",
    "                                    name = 'conv_3')\n",
    "\n",
    "conv_4 = lasagne.layers.Conv2DLayer(conv_3, \n",
    "                                    num_filters = int(comp_scale * 1.5), \n",
    "                                    filter_size = (3, 3), \n",
    "                                    nonlinearity = lasagne.nonlinearities.elu, \n",
    "                                    name = 'conv_4')\n",
    "\n",
    "max_pool_2 = lasagne.layers.MaxPool2DLayer(conv_4, \n",
    "                                           pool_size = 2, \n",
    "                                           name = 'max_pool_2')\n",
    "\n",
    "conv_5 = lasagne.layers.Conv2DLayer(max_pool_2, \n",
    "                                    num_filters = comp_scale * 2, \n",
    "                                    filter_size = (3, 3), \n",
    "                                    nonlinearity = lasagne.nonlinearities.elu, \n",
    "                                    name = 'conv_5')\n",
    "\n",
    "conv_6 = lasagne.layers.Conv2DLayer(conv_5, \n",
    "                                    num_filters = comp_scale * 2, \n",
    "                                    filter_size = (3, 3), \n",
    "                                    nonlinearity = lasagne.nonlinearities.elu, \n",
    "                                    name = 'conv_6')\n",
    "\n",
    "global_pool = lasagne.layers.GlobalPoolLayer(conv_6, \n",
    "                                             name = 'global_pool')\n",
    "\n",
    "dense_output = lasagne.layers.DenseLayer(global_pool, \n",
    "                                         num_units = 10, \n",
    "                                         nonlinearity = lasagne.nonlinearities.softmax, \n",
    "                                         name = 'output')"
   ]
  },
  {
   "cell_type": "code",
   "execution_count": 15,
   "metadata": {
    "collapsed": true
   },
   "outputs": [],
   "source": [
    "y_predicted = lasagne.layers.get_output(dense_output)\n",
    "\n",
    "all_weights = lasagne.layers.get_all_params(dense_output, trainable=True)\n",
    "\n",
    "loss = lasagne.objectives.categorical_crossentropy(y_predicted, target_y).mean()\n",
    "\n",
    "accuracy = lasagne.objectives.categorical_accuracy(y_predicted, target_y).mean()\n",
    "\n",
    "\n",
    "# weights update\n",
    "updates = lasagne.updates.adamax(loss, all_weights)\n",
    "\n",
    "\n",
    "# a function that accepts X and y, returns loss functions and performs weight updates\n",
    "train_fun = theano.function([input_X, target_y], [loss, accuracy], updates = updates)\n",
    "\n",
    "\n",
    "# deterministic prediciton\n",
    "y_predicted_det = lasagne.layers.get_output(dense_output, deterministic = True)\n",
    "\n",
    "# deterministic accuracy\n",
    "accuracy_det = lasagne.objectives.categorical_accuracy(y_predicted_det, target_y).mean()\n",
    "\n",
    "# function that computes that accuracy\n",
    "accuracy_fun = theano.function([input_X, target_y], accuracy_det)"
   ]
  },
  {
   "cell_type": "code",
   "execution_count": 16,
   "metadata": {},
   "outputs": [
    {
     "name": "stdout",
     "output_type": "stream",
     "text": [
      "Epoch 100 of 100 took 134.463 s\n",
      "  training loss:\t\t0.736262\n",
      "  train accuracy:\t\t74.00 %\n",
      "  validation accuracy:\t\t66.87 %\n"
     ]
    },
    {
     "data": {
      "image/png": "[encoded data removed]",
      "text/plain": [
       "<matplotlib.figure.Figure at 0x1119c2d50>"
      ]
     },
     "metadata": {},
     "output_type": "display_data"
    },
    {
     "name": "stdout",
     "output_type": "stream",
     "text": [
      "Final results:\n",
      "  test accuracy:\t\t65.68 %\n",
      "\n",
      "CPU times: user 3h 49min 4s, sys: 18min 39s, total: 4h 7min 44s\n",
      "Wall time: 3h 43min 56s\n"
     ]
    }
   ],
   "source": [
    "%%time\n",
    "\n",
    "log_elu = []\n",
    "\n",
    "train_network(100, 50, log_elu, X_train, y_train, X_val, y_val, X_test, y_test)"
   ]
  },
  {
   "cell_type": "code",
   "execution_count": 17,
   "metadata": {
    "collapsed": true
   },
   "outputs": [],
   "source": [
    "np.savez('network_elu.npz', *lasagne.layers.get_all_param_values(conv_1))"
   ]
  },
  {
   "cell_type": "code",
   "execution_count": 27,
   "metadata": {
    "collapsed": true
   },
   "outputs": [],
   "source": [
    "np.save('log_elu.npy', log_elu)"
   ]
  }
 ],
 "metadata": {
  "kernelspec": {
   "display_name": "Python 2",
   "language": "python",
   "name": "python2"
  },
  "language_info": {
   "codemirror_mode": {
    "name": "ipython",
    "version": 2
   },
   "file_extension": ".py",
   "mimetype": "text/x-python",
   "name": "python",
   "nbconvert_exporter": "python",
   "pygments_lexer": "ipython2",
   "version": "2.7.14"
  }
 },
 "nbformat": 4,
 "nbformat_minor": 2
}
